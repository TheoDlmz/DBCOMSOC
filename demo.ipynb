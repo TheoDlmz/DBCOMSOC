{
 "cells": [
  {
   "cell_type": "markdown",
   "metadata": {},
   "source": [
    "# RSM for Mallows"
   ]
  },
  {
   "cell_type": "markdown",
   "metadata": {},
   "source": [
    "A classic computational social problem is when each voter gives a linear ordered preference over all the candidates. However, it is known that getting such a complete-ordered list of preferences is not always possible. Hence, specific cases when partial-ordered preferences are given is also a key area of research. To facilitate such research, synthetically created partial-ordered preferences are needed to study scalability and correctness of algorithms being developed. \n",
    "\n",
    "Synthetic complete-ordered preferences are generally created using Mallows model. In this notebook, we focus on how to generate such a population of partial order using the pycomsoc library.\n",
    "\n",
    "Pycomsoc stands for *\"Python Computational Social Choice\"*. It enables users to generate populations of partial orders and find if there is a possible winners or necessary winner. "
   ]
  },
  {
   "cell_type": "markdown",
   "metadata": {},
   "source": [
    "The RSM model takes 3 inputs as parameters:\n",
    "\n",
    "* **Center** ranking $\\sigma$ around which the *full ranking* of the partial orders will be distributed.\n",
    "* **Selection matrix** $\\Pi$ : The cell $\\Pi_{i,j}$ is the probability that the $i^{th}$ candidate selected is the $j^{th}$ remaining, ordered according to **center**.\n",
    "* **Pairs vector** $p$ : $p_i$ is the probability to add a comparaison pair between the $i^{th}$ selected and each candidate not selected yet at the $i^{th}$ step.\n",
    "\n",
    "We must be ensure some constraints:\n",
    "* $\\forall i, 0 \\le p_i \\le 1$ and $\\forall i,j, 0 \\le \\Pi_{i,j} \\le 1$.\n",
    "* $\\forall i, \\forall j > m+1-i, \\Pi_{i,j} = 0$ where $m$ is #candidates.\n",
    "* $\\forall i, \\sum_j \\Pi_{i,j} = 1$.\n",
    "\n",
    "The process is simple. First, we initialize some variable:\n",
    "\n",
    "* a copy of $\\sigma$ named $r$\n",
    "* An empty list of the set of direct children of every candidate.\n",
    "* An empty list of the set of parents of every candidate.\n",
    "  \n",
    "And then, for each step $i$ between $1$ and $m$:\n",
    "\n",
    "* Select one $j \\in [1,m+1-i]$ based on $\\Pi^{i,j}$.\n",
    "* $e_1 = pop(r,j)$.\n",
    "* For every element $e_2$ remaining in $r$, add pair $(e_1,e_2)$ with probability $p_i$. \n",
    "* If we add the pair $(e_1,e_2)$, add $e_2$ to the set of direct children of $e_1$ and $e_1$ to the set of parents of $e_2$, as well as every parent of $e_1$. Remove the pair $(p,e_2)$ for every parent $p$ of $e_1$ if such a pair exists.\n",
    "\n"
   ]
  },
  {
   "cell_type": "code",
   "execution_count": 15,
   "metadata": {},
   "outputs": [],
   "source": [
    "import numpy as np\n",
    "from pycomsoc import poset\n",
    "from pycomsoc.winners import nw,pw\n"
   ]
  },
  {
   "cell_type": "markdown",
   "metadata": {},
   "source": [
    "To obtain a Mallows, we just need to use a specific matrix $\\Pi$ such that $\\Pi_{i,j} = \\frac{\\phi^{j}}{Z_i}$ if $j \\le m +1 -i$ and $0$ otherwise. $Z_i$ is a normalization factor."
   ]
  },
  {
   "cell_type": "code",
   "execution_count": 16,
   "metadata": {},
   "outputs": [],
   "source": [
    "m = 10\n",
    "phi = 0.2\n",
    "center = list(range(0,m))\n",
    "\n",
    "model_1 = poset.Mallows_RSM(center,phi)"
   ]
  },
  {
   "cell_type": "markdown",
   "metadata": {},
   "source": [
    "First, we can create some full rankings with the method *sample_a_ranking()*. Since $\\phi = 0.2$, rankings will be really similar..."
   ]
  },
  {
   "cell_type": "code",
   "execution_count": 17,
   "metadata": {},
   "outputs": [
    {
     "name": "stdout",
     "output_type": "stream",
     "text": [
      "[0, 1, 2, 3, 4, 5, 6, 7, 9, 8]\n",
      "[0, 1, 2, 4, 3, 5, 6, 7, 8, 9]\n",
      "[0, 1, 2, 3, 4, 5, 6, 7, 9, 8]\n",
      "[0, 1, 2, 3, 5, 4, 7, 6, 8, 9]\n",
      "[0, 1, 2, 3, 4, 5, 6, 8, 7, 9]\n",
      "[0, 1, 2, 3, 5, 4, 6, 7, 8, 9]\n",
      "[0, 1, 2, 4, 3, 5, 6, 7, 8, 9]\n",
      "[0, 1, 2, 3, 4, 6, 5, 7, 8, 9]\n",
      "[0, 2, 1, 3, 4, 5, 6, 8, 7, 9]\n",
      "[0, 1, 2, 3, 4, 7, 5, 9, 8, 6]\n"
     ]
    }
   ],
   "source": [
    "for i in range(10):\n",
    "    print(model_1.sample_a_ranking())"
   ]
  },
  {
   "cell_type": "markdown",
   "metadata": {},
   "source": [
    "But if we use $\\phi = 0.5$, we obtain a lot of different rankings."
   ]
  },
  {
   "cell_type": "code",
   "execution_count": 18,
   "metadata": {},
   "outputs": [
    {
     "name": "stdout",
     "output_type": "stream",
     "text": [
      "[2, 0, 1, 3, 6, 7, 5, 9, 4, 8]\n",
      "[0, 2, 3, 5, 1, 4, 6, 8, 7, 9]\n",
      "[3, 0, 2, 1, 8, 4, 5, 7, 9, 6]\n",
      "[4, 3, 1, 5, 0, 2, 8, 9, 7, 6]\n",
      "[0, 4, 2, 1, 6, 3, 5, 8, 9, 7]\n",
      "[0, 1, 3, 2, 5, 4, 6, 7, 9, 8]\n",
      "[1, 4, 2, 0, 5, 7, 3, 6, 8, 9]\n",
      "[0, 2, 4, 1, 3, 7, 5, 6, 9, 8]\n",
      "[0, 2, 3, 6, 5, 1, 7, 8, 4, 9]\n",
      "[3, 1, 0, 2, 4, 5, 6, 8, 7, 9]\n"
     ]
    }
   ],
   "source": [
    "model_1.set_phi(0.5)\n",
    "\n",
    "for i in range(10):\n",
    "    print(model_1.sample_a_ranking())"
   ]
  },
  {
   "cell_type": "markdown",
   "metadata": {},
   "source": [
    "Since we have not specifically intialized the vector **p** when creating the model, it has the default value of $1$ in every cell. Consequently, even if we sample a partial order, we will obtain a full ranking."
   ]
  },
  {
   "cell_type": "code",
   "execution_count": 19,
   "metadata": {},
   "outputs": [
    {
     "name": "stdout",
     "output_type": "stream",
     "text": [
      "Probability vector : [1, 1, 1, 1, 1, 1, 1, 1, 1, 1]\n",
      "[(0, 2), (1, 0), (2, 4), (3, 6), (4, 5), (5, 3), (6, 7), (7, 9), (9, 8)]\n"
     ]
    }
   ],
   "source": [
    "print(\"Probability vector :\",model_1.get_p())\n",
    "print(model_1.sample_pairs())"
   ]
  },
  {
   "cell_type": "markdown",
   "metadata": {},
   "source": [
    "We can manually set the value of **p** when creating the model (or afterward) using the method *set_p()*."
   ]
  },
  {
   "cell_type": "code",
   "execution_count": 20,
   "metadata": {},
   "outputs": [
    {
     "name": "stdout",
     "output_type": "stream",
     "text": [
      "Probability vector : [1, 0.5, 0.5, 0.5, 0.5, 0.2, 0.2, 0.2, 0.1, 0.1]\n",
      "[(0, 2), (0, 7), (0, 8), (1, 3), (1, 4), (2, 1), (2, 6), (5, 3), (5, 4), (5, 9), (7, 5), (8, 1)]\n"
     ]
    }
   ],
   "source": [
    "model_1.set_p([1,0.5,0.5,0.5,0.5,0.2,0.2,0.2,0.1,0.1])\n",
    "print(\"Probability vector :\",model_1.get_p())\n",
    "print(model_1.sample_pairs())"
   ]
  },
  {
   "cell_type": "markdown",
   "metadata": {},
   "source": [
    "We can also choose to drop some randomly chosen candidates. For that, we use the method *drop_k()*. Since it also alters the value of $\\Pi$, it is important to specify again the value of $\\phi$ or $\\Pi$ to our model if we don't want to drop candidates anymore."
   ]
  },
  {
   "cell_type": "code",
   "execution_count": 21,
   "metadata": {},
   "outputs": [
    {
     "name": "stdout",
     "output_type": "stream",
     "text": [
      "Probability vector : [0, 0, 0, 1, 0.5, 0.5, 0.5, 0.5, 0.2, 0.2]\n",
      "[(0, 4), (0, 8), (2, 7), (4, 6), (4, 9), (7, 0), (8, 9)]\n"
     ]
    }
   ],
   "source": [
    "model_1.drop_k(3)\n",
    "print(\"Probability vector :\",model_1.get_p())\n",
    "print(model_1.sample_pairs())"
   ]
  },
  {
   "cell_type": "markdown",
   "metadata": {},
   "source": [
    "We can create **top-k** partial order with the method *top_k()*."
   ]
  },
  {
   "cell_type": "code",
   "execution_count": 22,
   "metadata": {},
   "outputs": [
    {
     "name": "stdout",
     "output_type": "stream",
     "text": [
      "Probability vector : [1, 1, 1, 1, 1, 0, 0, 0, 0, 0]\n",
      "[(0, 1), (1, 6), (2, 5), (5, 0), (6, 3), (6, 4), (6, 7), (6, 8), (6, 9)]\n"
     ]
    }
   ],
   "source": [
    "model_1.set_phi(0.5)\n",
    "model_1.set_topk(5)\n",
    "print(\"Probability vector :\",model_1.get_p())\n",
    "print(model_1.sample_pairs())"
   ]
  },
  {
   "cell_type": "markdown",
   "metadata": {},
   "source": [
    "We can set every cell of **p** with the same value with *set_uniform_p()*."
   ]
  },
  {
   "cell_type": "code",
   "execution_count": 23,
   "metadata": {},
   "outputs": [
    {
     "name": "stdout",
     "output_type": "stream",
     "text": [
      "Probability vector : [0.5, 0.5, 0.5, 0.5, 0.5, 0.5, 0.5, 0.5, 0.5, 0.5]\n",
      "[(0, 3), (0, 4), (1, 2), (2, 5), (2, 6), (3, 2), (4, 5), (4, 6), (5, 7), (5, 8), (6, 9), (8, 9)]\n"
     ]
    }
   ],
   "source": [
    "model_1.set_uniform_p(0.5)\n",
    "print(\"Probability vector :\",model_1.get_p())\n",
    "print(model_1.sample_pairs())"
   ]
  },
  {
   "cell_type": "markdown",
   "metadata": {},
   "source": [
    "We can set every cell of **p** with a random value between 0 and 1 with *set_random_p()*."
   ]
  },
  {
   "cell_type": "code",
   "execution_count": 24,
   "metadata": {},
   "outputs": [
    {
     "name": "stdout",
     "output_type": "stream",
     "text": [
      "Probability vector : [0.45324184775023, 0.8221353403393798, 0.7564355678289585, 0.9971827846987953, 0.05523828006428666, 0.5712118103093371, 0.9954915615250038, 0.5489191657973327, 0.8745276621884325, 0.6741117489996404]\n",
      "[(0, 3), (0, 4), (1, 8), (2, 0), (4, 5), (5, 6), (5, 7), (6, 9), (7, 9), (8, 2)]\n"
     ]
    }
   ],
   "source": [
    "model_1.set_random_p()\n",
    "print(\"Probability vector :\",model_1.get_p())\n",
    "print(model_1.sample_pairs())"
   ]
  },
  {
   "cell_type": "markdown",
   "metadata": {},
   "source": [
    "# Sample a Poset"
   ]
  },
  {
   "cell_type": "markdown",
   "metadata": {},
   "source": [
    "We might want to study a partial order on its own, for that, we can use the Poset module which provides methods that facilitates computation of *Up* and *Down* value of candidates, the *roots* and the *leaves*. To sample a poset instead of a list with our model, we use the method *sample_a_poset()*."
   ]
  },
  {
   "cell_type": "code",
   "execution_count": 25,
   "metadata": {
    "scrolled": true
   },
   "outputs": [
    {
     "name": "stdout",
     "output_type": "stream",
     "text": [
      "Type: <class 'pycomsoc.poset.Poset'>\n",
      "Pairs: [(0, 2), (1, 3), (2, 3), (3, 4), (3, 5), (5, 6), (6, 7), (7, 9), (9, 8)]\n",
      "Roots: [0, 1]\n",
      "Leaves: [4, 8]\n",
      "Is there Transitive Closure? False\n",
      "Is there Transitive Cycle? False\n",
      "Candidates: [0, 1, 2, 3, 4, 5, 6, 7, 8, 9]\n",
      "Missing candidates: []\n",
      "Direct successors of 5: [6]\n",
      "Direct predecessors of 5: [3]\n",
      "Elements better ranked than 5: {0, 1, 2, 3, 5}\n",
      "Elements less well ranked than 5: {5, 6, 7, 8, 9}\n",
      "Height of the poset: 8\n"
     ]
    }
   ],
   "source": [
    "poset_ex = model_1.sample_a_poset()\n",
    "\n",
    "print(\"Type:\",type(poset_ex))\n",
    "print(\"Pairs:\",poset_ex.get_pairs())\n",
    "print(\"Roots:\",poset_ex.roots())\n",
    "print(\"Leaves:\",poset_ex.leaves())\n",
    "print(\"Is there Transitive Closure?\",poset_ex.is_there_TC())\n",
    "print(\"Is there Transitive Cycle?\",poset_ex.is_there_cycle())\n",
    "print(\"Candidates:\",poset_ex.get_elements())\n",
    "print(\"Missing candidates:\",poset_ex.missing(list(range(1,m))))\n",
    "print(\"Direct successors of 5:\",poset_ex.direct_down_i(5))\n",
    "print(\"Direct predecessors of 5:\",poset_ex.direct_up_i(5))\n",
    "print(\"Elements better ranked than 5:\",poset_ex.up_i(5))\n",
    "print(\"Elements less well ranked than 5:\",poset_ex.down_i(5))\n",
    "print(\"Height of the poset:\",poset_ex.get_height())"
   ]
  },
  {
   "cell_type": "markdown",
   "metadata": {},
   "source": [
    "# Population and Winners"
   ]
  },
  {
   "cell_type": "markdown",
   "metadata": {},
   "source": [
    "Now that we know how to generate a partial order, we want to create a population of voter, and try to solve a problem on this population. For that, we use the *nw* and *pw* libraries, for **necessary winners** and **possible winners** respectively."
   ]
  },
  {
   "cell_type": "code",
   "execution_count": 26,
   "metadata": {},
   "outputs": [],
   "source": [
    "def all_nw(population,m,verbose=False):\n",
    "    print(\"Necessary winner(s) for Borda:\",nw.borda(population,m,verbose=verbose))\n",
    "    print(\"Necessary winner(s) for Plurality:\",nw.plurality(population,m,verbose=verbose))\n",
    "    print(\"Necessary winner(s) for Veto:\",nw.veto(population,m,verbose=verbose))\n",
    "    print(\"Necessary winner(s) for 3-Approval:\",nw.kapp(population,m,3,verbose=verbose))\n",
    "    print(\"Necessary winner(s) for Formula 1 competition:\",nw.positional_scoring_rule(population,m,formula_1_rule,verbose=verbose))"
   ]
  },
  {
   "cell_type": "markdown",
   "metadata": {},
   "source": [
    "In a population with only **full rankings**, it is not hard to see that there will always be at least one necessary winner. "
   ]
  },
  {
   "cell_type": "code",
   "execution_count": 27,
   "metadata": {},
   "outputs": [
    {
     "name": "stdout",
     "output_type": "stream",
     "text": [
      "1000\n",
      "Center: [4, 7, 6, 2, 0, 1, 9, 5, 3, 8]\n",
      "Necessary winner(s) for Borda: [4]\n",
      "Necessary winner(s) for Plurality: [4]\n",
      "Necessary winner(s) for Veto: [4]\n",
      "Necessary winner(s) for 3-Approval: [4]\n",
      "Necessary winner(s) for Formula 1 competition: [4]\n"
     ]
    }
   ],
   "source": [
    "model_1.set_uniform_p(1)\n",
    "model_1.shuffle_center()\n",
    "population_full_ranking = model_1.generate_a_population(1000)\n",
    "print(len(population_full_ranking))\n",
    "print(\"Center:\",model_1.get_center())\n",
    "\n",
    "formula_1_rule = [25,18,15,12,10,8,6,4,2,1]\n",
    "\n",
    "all_nw(population_full_ranking,m)"
   ]
  },
  {
   "cell_type": "markdown",
   "metadata": {},
   "source": [
    "But in a population in which **every voter have linear preferences but with missing candidates**, it is harder to find a necessary winner."
   ]
  },
  {
   "cell_type": "code",
   "execution_count": 28,
   "metadata": {},
   "outputs": [
    {
     "name": "stdout",
     "output_type": "stream",
     "text": [
      "Necessary winner(s) for Borda: []\n",
      "Necessary winner(s) for Plurality: []\n",
      "Necessary winner(s) for Veto: []\n",
      "Necessary winner(s) for 3-Approval: []\n",
      "Necessary winner(s) for Formula 1 competition: []\n"
     ]
    }
   ],
   "source": [
    "population_drop_candidates = []\n",
    "model_1.shuffle_center()\n",
    "for i in range(1000):\n",
    "    k = np.random.randint(m-1)\n",
    "    model_1.set_uniform_p(1)\n",
    "    model_1.set_phi(0.5)\n",
    "    model_1.drop_k(k)\n",
    "    population_drop_candidates.append(model_1.sample_pairs())\n",
    "\n",
    "all_nw(population_drop_candidates,m)\n"
   ]
  },
  {
   "cell_type": "markdown",
   "metadata": {},
   "source": [
    "We can then try to find **possible winners**. For *Plurality* and *Veto*, we can find the exact set of possible winners in PTIME. But for other rules, we can only find an approximation. The function will return 2 sets of candidates. The first one contains candidate who are possible winners for sure and the second one contains candidate for whom we can't conclude with this approximation. However, in most case, the second set is empty or with a small number of candidates.\n",
    "\n",
    "In this particular case, every candidate is a possible winner, whatever is the rule."
   ]
  },
  {
   "cell_type": "code",
   "execution_count": 29,
   "metadata": {},
   "outputs": [],
   "source": [
    "def all_pw(population,m,shuffle=1,verbose=False):\n",
    "    print(\"Possible winner(s) for plurality:\",pw.plurality(population,m,verbose=verbose))\n",
    "    print(\"Possible winner(s) for veto:\",pw.veto(population,m,verbose=verbose))\n",
    "    pw_borda_sure,pw_borda_maybe = pw.approx_borda(population,m,shuffle=shuffle,verbose=verbose)\n",
    "    pw_borda_sure.sort()\n",
    "    pw_borda_maybe.sort()\n",
    "    print(\"Possible winner(s) for Borda: \"+str(pw_borda_sure)+\"( +\"+str(pw_borda_maybe)+\")\")\n",
    "    pw_kapp_sure,pw_kapp_maybe = pw.approx_kapproval(population,m,3,shuffle=shuffle,verbose=verbose)\n",
    "    pw_kapp_sure.sort()\n",
    "    pw_kapp_maybe.sort()\n",
    "    print(\"Possible winner(s) for 3-Approval: \"+str(pw_kapp_sure)+\"( +\"+str(pw_kapp_maybe)+\")\")\n",
    "    pw_formula1_sure,pw_formula1_maybe = pw.approx_positional_scoring_rule(population,m,formula_1_rule,shuffle=shuffle,verbose=verbose)\n",
    "    pw_formula1_sure.sort()\n",
    "    pw_formula1_maybe.sort()\n",
    "    print(\"Possible winner(s) for Formula 1: \"+str(pw_formula1_sure)+\"( +\"+str(pw_formula1_maybe)+\")\")"
   ]
  },
  {
   "cell_type": "code",
   "execution_count": 30,
   "metadata": {},
   "outputs": [
    {
     "name": "stdout",
     "output_type": "stream",
     "text": [
      "Possible winner(s) for plurality: [0, 1, 2, 3, 4, 5, 6, 7, 8, 9]\n",
      "Possible winner(s) for veto: [0, 1, 2, 3, 4, 5, 6, 7, 8, 9]\n",
      "Possible winner(s) for Borda: [0, 1, 2, 3, 4, 5, 6, 7, 8, 9]( +[])\n",
      "Possible winner(s) for 3-Approval: [0, 1, 2, 3, 4, 5, 6, 7, 8, 9]( +[])\n",
      "Possible winner(s) for Formula 1: [0, 1, 2, 3, 4, 5, 6, 7, 8, 9]( +[])\n"
     ]
    }
   ],
   "source": [
    "all_pw(population_drop_candidates,m)"
   ]
  },
  {
   "cell_type": "markdown",
   "metadata": {},
   "source": [
    "We can also generate a population of **top-k** partial orders"
   ]
  },
  {
   "cell_type": "code",
   "execution_count": 31,
   "metadata": {},
   "outputs": [
    {
     "name": "stdout",
     "output_type": "stream",
     "text": [
      "Necessary winner(s) for Borda: []\n",
      "Necessary winner(s) for Plurality: [7]\n",
      "Necessary winner(s) for Veto: []\n",
      "Necessary winner(s) for 3-Approval: []\n",
      "Necessary winner(s) for Formula 1 competition: []\n",
      "Possible winner(s) for plurality: [7]\n",
      "Possible winner(s) for veto: [0, 1, 2, 3, 4, 5, 6, 7, 8, 9]\n",
      "Possible winner(s) for Borda: [1, 7]( +[])\n",
      "Possible winner(s) for 3-Approval: [1, 7]( +[])\n",
      "Possible winner(s) for Formula 1: [7]( +[])\n"
     ]
    }
   ],
   "source": [
    "population_top_k = []\n",
    "model_1.set_phi(0.5)\n",
    "model_1.shuffle_center()\n",
    "for i in range(1000):\n",
    "    k = np.random.randint(1,m-1)\n",
    "    model_1.set_topk(k)\n",
    "    population_top_k.append(model_1.sample_pairs())\n",
    "    \n",
    "all_nw(population_top_k,m)\n",
    "all_pw(population_top_k,m)\n"
   ]
  },
  {
   "cell_type": "markdown",
   "metadata": {},
   "source": [
    "We can create a population in which every pair has the same probability to appear. For instance, with *10* candidates, there are *45* possible pairs. If we want to simulate an experiment in which we ask the subject to order pairs for *30* in average, we set **p_i** at *30/45* for all *i*."
   ]
  },
  {
   "cell_type": "code",
   "execution_count": 32,
   "metadata": {},
   "outputs": [
    {
     "name": "stdout",
     "output_type": "stream",
     "text": [
      "Necessary winner(s) for Borda: []\n",
      "Necessary winner(s) for Plurality: []\n",
      "Necessary winner(s) for Veto: []\n",
      "Necessary winner(s) for 3-Approval: []\n",
      "Necessary winner(s) for Formula 1 competition: []\n",
      "Possible winner(s) for plurality: [0, 9]\n",
      "Possible winner(s) for veto: [0, 1, 2, 3, 4, 6, 7, 9]\n",
      "Possible winner(s) for Borda: [0, 9]( +[])\n",
      "Possible winner(s) for 3-Approval: [0, 9]( +[])\n",
      "Possible winner(s) for Formula 1: [0, 9]( +[])\n"
     ]
    }
   ],
   "source": [
    "population_random_graph = []\n",
    "model_1.shuffle_center()\n",
    "model_1.set_uniform_p(30/45)\n",
    "population_random_graph = model_1.generate_a_population(1000)\n",
    "    \n",
    "all_nw(population_random_graph,m)\n",
    "all_pw(population_random_graph,m)"
   ]
  },
  {
   "cell_type": "markdown",
   "metadata": {},
   "source": [
    "Finally, we can generate a new, random probability vector **p** for every voter. In this case, we have a higher chance to ascertain if a candidate is a possible winner or not."
   ]
  },
  {
   "cell_type": "code",
   "execution_count": 33,
   "metadata": {},
   "outputs": [
    {
     "name": "stdout",
     "output_type": "stream",
     "text": [
      "Necessary winner(s) for Borda: []\n",
      "Necessary winner(s) for Plurality: []\n",
      "Necessary winner(s) for Veto: []\n",
      "Necessary winner(s) for 3-Approval: []\n",
      "Necessary winner(s) for Formula 1 competition: []\n",
      "Possible winner(s) for plurality: [0, 1, 3, 4]\n",
      "Possible winner(s) for veto: [0, 1, 2, 3, 4, 5, 6, 7, 8, 9]\n",
      "Possible winner(s) for Borda: [0, 1, 3, 4, 7]( +[])\n",
      "Possible winner(s) for 3-Approval: [0, 1, 3, 4]( +[])\n",
      "Possible winner(s) for Formula 1: [0, 1, 3, 4]( +[7])\n"
     ]
    }
   ],
   "source": [
    "population_random_p = []\n",
    "model_1.shuffle_center()\n",
    "for i in range(1000):\n",
    "    model_1.set_random_p()\n",
    "    population_random_p.append(model_1.sample_pairs())\n",
    "    \n",
    "all_nw(population_random_p,m)\n",
    "all_pw(population_random_p,m)"
   ]
  },
  {
   "cell_type": "markdown",
   "metadata": {},
   "source": [
    "For instance here, with the some rule, we cannot conclude for some candidate. To avoid that, we can try several shuffling of the voter population in our approximation, because the order in which we see voters can have a great importance in the final result."
   ]
  },
  {
   "cell_type": "code",
   "execution_count": 34,
   "metadata": {},
   "outputs": [
    {
     "name": "stdout",
     "output_type": "stream",
     "text": [
      "Possible winner(s) for plurality: [0, 1, 3, 4]\n",
      "Possible winner(s) for veto: [0, 1, 2, 3, 4, 5, 6, 7, 8, 9]\n",
      "Possible winner(s) for Borda: [0, 1, 3, 4, 7]( +[])\n",
      "Possible winner(s) for 3-Approval: [0, 1, 3, 4]( +[])\n",
      "Possible winner(s) for Formula 1: [0, 1, 3, 4]( +[7])\n"
     ]
    }
   ],
   "source": [
    "all_pw(population_random_p,m,shuffle=10)"
   ]
  }
 ],
 "metadata": {
  "kernelspec": {
   "display_name": "Python 3",
   "language": "python",
   "name": "python3"
  },
  "language_info": {
   "codemirror_mode": {
    "name": "ipython",
    "version": 3
   },
   "file_extension": ".py",
   "mimetype": "text/x-python",
   "name": "python",
   "nbconvert_exporter": "python",
   "pygments_lexer": "ipython3",
   "version": "3.7.0"
  }
 },
 "nbformat": 4,
 "nbformat_minor": 2
}
